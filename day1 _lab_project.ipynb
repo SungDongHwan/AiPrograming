{
 "nbformat": 4,
 "nbformat_minor": 0,
 "metadata": {
  "colab": {
   "provenance": [
    {
     "file_id": "1HqLFqCyimO-hDqIx03prAr_Bv2ylse8_",
     "timestamp": 1680444898483
    }
   ],
   "toc_visible": true,
   "authorship_tag": "ABX9TyPW/Ast97E1WnznwemYkviF"
  },
  "kernelspec": {
   "name": "python3",
   "language": "python",
   "display_name": "Python 3 (ipykernel)"
  },
  "language_info": {
   "name": "python"
  }
 },
 "cells": [
  {
   "cell_type": "markdown",
   "source": [
    "# Lab1"
   ],
   "metadata": {
    "id": "ZYJeA4fpcGNk"
   }
  },
  {
   "cell_type": "markdown",
   "source": [
    "1. Create a string variable called 'course_name' with the value \"Python for Non-Majors\", and print its length. \n",
    "\n",
    "hint: len()\n",
    "\n",
    "\n"
   ],
   "metadata": {
    "id": "0AZqhmeccW7p"
   }
  },
  {
   "cell_type": "code",
   "source": [
    "course_name = \"Python for Non-Majors\"\n",
    "len(course_name)"
   ],
   "metadata": {
    "id": "SBUQ1WRTc1Nz",
    "ExecuteTime": {
     "start_time": "2023-04-03T12:06:50.340474Z",
     "end_time": "2023-04-03T12:06:50.356966Z"
    }
   },
   "execution_count": 1,
   "outputs": [
    {
     "data": {
      "text/plain": "21"
     },
     "execution_count": 1,
     "metadata": {},
     "output_type": "execute_result"
    }
   ]
  },
  {
   "cell_type": "markdown",
   "source": [
    "2. Rename the following invalid variable names to follow Python naming rules: 1st_name, @age, Full-Name, class, list.\n",
    "\n",
    "\n"
   ],
   "metadata": {
    "id": "mGbPfQJEc5pl"
   }
  },
  {
   "cell_type": "code",
   "source": [
    "first_name, age, Full_name, Class, List = '1st_name','@age','Full-Name', 'class', 'list'\n",
    "print(first_name, age, Full_name, Class, List)"
   ],
   "metadata": {
    "id": "mGAC-9rSc7Qd",
    "ExecuteTime": {
     "start_time": "2023-04-03T12:09:39.788791Z",
     "end_time": "2023-04-03T12:09:39.794852Z"
    }
   },
   "execution_count": 3,
   "outputs": [
    {
     "name": "stdout",
     "output_type": "stream",
     "text": [
      "1st_name @age Full-Name class list\n"
     ]
    }
   ]
  },
  {
   "cell_type": "markdown",
   "source": [
    "3. Calculate the result of 5 multiplied by 3, divided by 2, and raised to the power of 4. Use parentheses to ensure correct precedence.\n",
    "\n"
   ],
   "metadata": {
    "id": "INqFk2K5c7ks"
   }
  },
  {
   "cell_type": "code",
   "source": [
    "((5*3)/2)**4"
   ],
   "metadata": {
    "id": "B2c46qWfc8z0",
    "ExecuteTime": {
     "start_time": "2023-04-03T12:22:35.510153Z",
     "end_time": "2023-04-03T12:22:35.518177Z"
    }
   },
   "execution_count": 12,
   "outputs": [
    {
     "data": {
      "text/plain": "3164.0625"
     },
     "execution_count": 12,
     "metadata": {},
     "output_type": "execute_result"
    }
   ]
  },
  {
   "cell_type": "markdown",
   "source": [
    "\n",
    "4. Print the values of three variables on the same line, separated by commas and a space.\n",
    "\n",
    "\tname = \"Alice\", age = 30, city = \"New York\""
   ],
   "metadata": {
    "id": "jAEoPcBXc9kM"
   }
  },
  {
   "cell_type": "code",
   "source": [
    "name, age, city = \"Alice\", 30, \"New York\"\n",
    "print(name,age,city, sep=\", \")"
   ],
   "metadata": {
    "id": "nJN7nZ1Nc-ad",
    "ExecuteTime": {
     "start_time": "2023-04-03T12:26:09.893825Z",
     "end_time": "2023-04-03T12:26:09.940747Z"
    }
   },
   "execution_count": 13,
   "outputs": [
    {
     "name": "stdout",
     "output_type": "stream",
     "text": [
      "Alice, 30, New York\n"
     ]
    }
   ]
  },
  {
   "cell_type": "markdown",
   "source": [
    "5. Create a variable containing a string and reassign it to an integer.\n",
    "\n",
    "\n",
    "\n"
   ],
   "metadata": {
    "id": "EkRNBCyLctUY"
   }
  },
  {
   "cell_type": "code",
   "source": [
    "str1 = \"Python\"\n",
    "print(str1)\n",
    "str1 = 42\n",
    "print (str1)"
   ],
   "metadata": {
    "id": "BxdeHEF_cB3C",
    "ExecuteTime": {
     "start_time": "2023-04-03T12:34:51.982270Z",
     "end_time": "2023-04-03T12:34:51.998400Z"
    }
   },
   "execution_count": 18,
   "outputs": [
    {
     "name": "stdout",
     "output_type": "stream",
     "text": [
      "Python\n",
      "42\n"
     ]
    }
   ]
  },
  {
   "cell_type": "markdown",
   "source": [
    "6. Check the data type of a float variable and convert it to an integer.\n",
    "\n",
    "\n"
   ],
   "metadata": {
    "id": "8urakjF8dBKW"
   }
  },
  {
   "cell_type": "code",
   "source": [
    "float_data = 42.11\n",
    "print(float_data)\n",
    "int(float_data)"
   ],
   "metadata": {
    "id": "gDSlPn3DdDOM",
    "ExecuteTime": {
     "start_time": "2023-04-03T12:35:43.815408Z",
     "end_time": "2023-04-03T12:35:43.820841Z"
    }
   },
   "execution_count": 20,
   "outputs": [
    {
     "name": "stdout",
     "output_type": "stream",
     "text": [
      "42.11\n"
     ]
    },
    {
     "data": {
      "text/plain": "42"
     },
     "execution_count": 20,
     "metadata": {},
     "output_type": "execute_result"
    }
   ]
  },
  {
   "cell_type": "markdown",
   "source": [
    "7. Given an integer and a float, calculate their sum and product. Store the results in two separate variables and print them.\n",
    "\n",
    "\n"
   ],
   "metadata": {
    "id": "Zlqm6hu3dDno"
   }
  },
  {
   "cell_type": "code",
   "source": [
    "num1 ,num2 = 42, 38.111\n",
    "sum_num = num1+num2\n",
    "p_num = num1*num2\n",
    "print(sum_num)\n",
    "print(p_num)"
   ],
   "metadata": {
    "id": "04L2YydrdE13",
    "ExecuteTime": {
     "start_time": "2023-04-03T12:42:17.759078Z",
     "end_time": "2023-04-03T12:42:17.773752Z"
    }
   },
   "execution_count": 28,
   "outputs": [
    {
     "name": "stdout",
     "output_type": "stream",
     "text": [
      "80.11099999999999\n",
      "1600.6619999999998\n"
     ]
    }
   ]
  },
  {
   "cell_type": "markdown",
   "source": [
    "8. Use comparison and logical operators to evaluate a condition. The comparison should check if x is less than y, and if y is less than z. Print the value of result to the console.\n",
    "\n",
    "\tx = 10, y = 20, z = 30"
   ],
   "metadata": {
    "id": "DsXdhO5zdFQX"
   }
  },
  {
   "cell_type": "code",
   "source": [
    "x,y,z = 10,20,30\n",
    "result = x < y & y < z\n",
    "print(result)"
   ],
   "metadata": {
    "id": "ZFivLJHCdGK3",
    "ExecuteTime": {
     "start_time": "2023-04-03T12:44:35.201445Z",
     "end_time": "2023-04-03T12:44:35.212570Z"
    }
   },
   "execution_count": 29,
   "outputs": [
    {
     "name": "stdout",
     "output_type": "stream",
     "text": [
      "True\n"
     ]
    }
   ]
  },
  {
   "cell_type": "markdown",
   "source": [
    "# Lab2"
   ],
   "metadata": {
    "id": "9fgcLU2reahl"
   }
  },
  {
   "cell_type": "markdown",
   "source": [
    "1. Create a string of 10 asterisks using repetition, and print the length of the string.\n",
    "\n",
    "\ttext = “*”"
   ],
   "metadata": {
    "id": "dI9p5_rNec8G"
   }
  },
  {
   "cell_type": "code",
   "source": [
    "text = \"*\"\n",
    "print(text *10, len(text*10))"
   ],
   "metadata": {
    "id": "nvheaxJOedT9",
    "ExecuteTime": {
     "start_time": "2023-04-03T12:45:39.508735Z",
     "end_time": "2023-04-03T12:45:39.509241Z"
    }
   },
   "execution_count": 31,
   "outputs": [
    {
     "name": "stdout",
     "output_type": "stream",
     "text": [
      "********** 10\n"
     ]
    }
   ]
  },
  {
   "cell_type": "markdown",
   "source": [
    "2. Convert a string to title case and print the result. hint: title()\n",
    "\n",
    "\ttext = \"hello world\""
   ],
   "metadata": {
    "id": "wDOVnwLTee8p"
   }
  },
  {
   "cell_type": "code",
   "source": [
    "text = \"hello world\"\n",
    "text.title()"
   ],
   "metadata": {
    "id": "YeC_cgT3ee8q",
    "ExecuteTime": {
     "start_time": "2023-04-03T12:49:25.232409Z",
     "end_time": "2023-04-03T12:49:25.265353Z"
    }
   },
   "execution_count": 32,
   "outputs": [
    {
     "data": {
      "text/plain": "'Hello World'"
     },
     "execution_count": 32,
     "metadata": {},
     "output_type": "execute_result"
    }
   ]
  },
  {
   "cell_type": "markdown",
   "source": [
    "3. Slice a string to obtain every second character, starting from the first character.\n",
    "\n",
    "\ttext = \"Python is fun!\""
   ],
   "metadata": {
    "id": "J5zjEzX3efP0"
   }
  },
  {
   "cell_type": "code",
   "source": [
    "text = \"Python is fun!\"\n",
    "text[::2]"
   ],
   "metadata": {
    "id": "Q7DxZNeGefP0",
    "ExecuteTime": {
     "start_time": "2023-04-03T12:49:48.995175Z",
     "end_time": "2023-04-03T12:49:49.002501Z"
    }
   },
   "execution_count": 33,
   "outputs": [
    {
     "data": {
      "text/plain": "'Pto sfn'"
     },
     "execution_count": 33,
     "metadata": {},
     "output_type": "execute_result"
    }
   ]
  },
  {
   "cell_type": "markdown",
   "source": [
    "4. Create a string containing double quotes and a newline character.\n",
    "\n",
    "\ttext = This is a string with \"double quotes\" and a newline"
   ],
   "metadata": {
    "id": "SVmkUvFEefSw"
   }
  },
  {
   "cell_type": "code",
   "source": [
    "text = '\\'This is a string with \"double quotes\" \\n and a newline\\''\n",
    "print(text)"
   ],
   "metadata": {
    "id": "1h3JnFZ3efSx",
    "ExecuteTime": {
     "start_time": "2023-04-03T12:56:30.172013Z",
     "end_time": "2023-04-03T12:56:30.180738Z"
    }
   },
   "execution_count": 46,
   "outputs": [
    {
     "name": "stdout",
     "output_type": "stream",
     "text": [
      "'This is a string with \"double quotes\" \n",
      " and a newline'\n"
     ]
    }
   ]
  },
  {
   "cell_type": "markdown",
   "source": [
    "5. Use the 'sep' argument in the print() function to print a list of items separated by commas.\n",
    "\n",
    "\tItems = apple, banana, orange"
   ],
   "metadata": {
    "id": "Ig4Qqk6fefV5"
   }
  },
  {
   "cell_type": "code",
   "source": [
    "items = ['apple', 'banana', 'orange']\n",
    "print(*items, sep=', ')"
   ],
   "metadata": {
    "id": "wiEtWocNefV6",
    "ExecuteTime": {
     "start_time": "2023-04-03T12:57:34.842035Z",
     "end_time": "2023-04-03T12:57:34.849708Z"
    }
   },
   "execution_count": 49,
   "outputs": [
    {
     "name": "stdout",
     "output_type": "stream",
     "text": [
      "apple, banana, orange\n"
     ]
    }
   ]
  },
  {
   "cell_type": "markdown",
   "source": [
    "6. Get user input for a floating-point number and print its square."
   ],
   "metadata": {
    "id": "bqPkCSx-efYw"
   }
  },
  {
   "cell_type": "code",
   "source": [
    "n = float(input())\n",
    "print(n**2)"
   ],
   "metadata": {
    "id": "LDvc1P3HefYx",
    "ExecuteTime": {
     "start_time": "2023-04-03T12:51:53.679137Z",
     "end_time": "2023-04-03T12:51:55.102328Z"
    }
   },
   "execution_count": 35,
   "outputs": [
    {
     "name": "stdout",
     "output_type": "stream",
     "text": [
      "153.76000000000002\n"
     ]
    }
   ]
  },
  {
   "cell_type": "markdown",
   "source": [
    "7. Create a string 'email' and use string methods to replace '@' with ' [at] ' and '.' with ' [dot] '.\n",
    "\n",
    "\temail = \"john.doe@example.com\"\n",
    "\n",
    "hint: replace() in str"
   ],
   "metadata": {
    "id": "6HbHQ3mDefbV"
   }
  },
  {
   "cell_type": "code",
   "source": [
    "email = \"john.doe@example.com\"\n",
    "modified_email = email.replace('@','[at]').replace('.','[dot]')\n",
    "print(modified_email)"
   ],
   "metadata": {
    "id": "W1YLTHq4efbV",
    "ExecuteTime": {
     "start_time": "2023-04-03T12:53:05.776415Z",
     "end_time": "2023-04-03T12:53:05.778872Z"
    }
   },
   "execution_count": 37,
   "outputs": [
    {
     "name": "stdout",
     "output_type": "stream",
     "text": [
      "john[dot]doe[at]example[dot]com\n"
     ]
    }
   ]
  },
  {
   "cell_type": "markdown",
   "source": [
    "# Project"
   ],
   "metadata": {
    "id": "BCoKWQ_tfC2S"
   }
  },
  {
   "cell_type": "markdown",
   "source": [
    "1. Text Analysis\n",
    "\n",
    "Create a program that performs a simple analysis of a user-provided text passage.\n",
    "\n",
    "<br>\n",
    "Input:\n",
    "\n",
    "The quick brown fox jumps over the lazy dog. The weather is great today. Let's go outside and play!\n",
    "\n",
    "<br>\n",
    "Instruction:\n",
    "\n",
    "  * Prompt the user for a text passage.\n",
    "  * Ignore case and punctuation.\n",
    "  * Calculate and print the total number of characters, words, and sentences in the passage.\n",
    "  * Calculate and print the average length of words and sentences.\n",
    "  * Calculate and print the frequency of each vowel (a, e, i, o, u) and the percentage of vowels in the text.\n",
    "  * Calculate and print the frequency of each word in the passage.\n",
    "\n"
   ],
   "metadata": {
    "id": "9GoMSloKfEl6"
   }
  },
  {
   "cell_type": "code",
   "source": [],
   "metadata": {
    "id": "X5Q8ZjwPfI1a"
   },
   "execution_count": null,
   "outputs": []
  },
  {
   "cell_type": "markdown",
   "source": [
    "2. Web Article Text Analysis\n",
    "\n",
    "\n",
    "You'll use the BeautifulSoup library to extract text from an article on a news website like the Washington Post, and then perform the same text analysis as before.\n",
    "\n",
    "<br>\n",
    "\n",
    "**Input:**\n",
    "\n",
    "* https://www.washingtonpost.com/national-security/2023/03/31/trump-arraignment-secret-service/\n",
    "\n",
    "* https://v.daum.net/v/20230401115141365\n",
    "\n",
    "<br>\n",
    "\n",
    "**Install the required libraries:**\n",
    "\n",
    "```python\n",
    "pip install bs4\n",
    "pip install requests\n",
    "```\n",
    "\n"
   ],
   "metadata": {
    "id": "m7driE1ZfagV"
   }
  },
  {
   "cell_type": "code",
   "source": [
    "!pip install bs4\n",
    "!pip install requests"
   ],
   "metadata": {
    "id": "VQm4bgErfjj7",
    "ExecuteTime": {
     "start_time": "2023-04-03T12:58:11.826973Z",
     "end_time": "2023-04-03T12:58:22.314523Z"
    }
   },
   "execution_count": 50,
   "outputs": [
    {
     "name": "stdout",
     "output_type": "stream",
     "text": [
      "Collecting bs4\n",
      "  Using cached bs4-0.0.1.tar.gz (1.1 kB)\n",
      "  Preparing metadata (setup.py): started\n",
      "  Preparing metadata (setup.py): finished with status 'done'\n",
      "Requirement already satisfied: beautifulsoup4 in d:\\sdh\\python\\aiprogramming\\lib\\site-packages (from bs4) (4.12.0)\n",
      "Requirement already satisfied: soupsieve>1.2 in d:\\sdh\\python\\aiprogramming\\lib\\site-packages (from beautifulsoup4->bs4) (2.4)\n",
      "Building wheels for collected packages: bs4\n",
      "  Building wheel for bs4 (setup.py): started\n",
      "  Building wheel for bs4 (setup.py): finished with status 'done'\n",
      "  Created wheel for bs4: filename=bs4-0.0.1-py3-none-any.whl size=1264 sha256=bd45ee73beb950126b6622f59b28af642d2e11e171df0e5c594b9c75c9331a67\n",
      "  Stored in directory: c:\\users\\sw\\appdata\\local\\pip\\cache\\wheels\\43\\3e\\57\\302f820566f1b49e516cb1a8daf8d99ccab6615f25b41cec80\n",
      "Successfully built bs4\n",
      "Installing collected packages: bs4\n",
      "Successfully installed bs4-0.0.1\n"
     ]
    },
    {
     "name": "stderr",
     "output_type": "stream",
     "text": [
      "\n",
      "[notice] A new release of pip available: 22.3.1 -> 23.0.1\n",
      "[notice] To update, run: python.exe -m pip install --upgrade pip\n"
     ]
    },
    {
     "name": "stdout",
     "output_type": "stream",
     "text": [
      "Collecting requests\n",
      "  Downloading requests-2.28.2-py3-none-any.whl (62 kB)\n",
      "     ---------------------------------------- 62.8/62.8 kB ? eta 0:00:00\n",
      "Collecting charset-normalizer<4,>=2\n",
      "  Downloading charset_normalizer-3.1.0-cp311-cp311-win_amd64.whl (96 kB)\n",
      "     ---------------------------------------- 96.7/96.7 kB 5.4 MB/s eta 0:00:00\n",
      "Requirement already satisfied: idna<4,>=2.5 in d:\\sdh\\python\\aiprogramming\\lib\\site-packages (from requests) (3.4)\n",
      "Collecting urllib3<1.27,>=1.21.1\n",
      "  Downloading urllib3-1.26.15-py2.py3-none-any.whl (140 kB)\n",
      "     -------------------------------------- 140.9/140.9 kB 8.2 MB/s eta 0:00:00\n",
      "Collecting certifi>=2017.4.17\n",
      "  Downloading certifi-2022.12.7-py3-none-any.whl (155 kB)\n",
      "     -------------------------------------- 155.3/155.3 kB 9.7 MB/s eta 0:00:00\n",
      "Installing collected packages: urllib3, charset-normalizer, certifi, requests\n",
      "Successfully installed certifi-2022.12.7 charset-normalizer-3.1.0 requests-2.28.2 urllib3-1.26.15\n"
     ]
    },
    {
     "name": "stderr",
     "output_type": "stream",
     "text": [
      "\n",
      "[notice] A new release of pip available: 22.3.1 -> 23.0.1\n",
      "[notice] To update, run: python.exe -m pip install --upgrade pip\n"
     ]
    }
   ]
  },
  {
   "cell_type": "code",
   "source": [
    "import re\n",
    "import requests\n",
    "from bs4 import BeautifulSoup\n",
    "\n",
    "url = input(\"Enter the URL of the news article: \")\n",
    "response = requests.get(url)\n",
    "soup = BeautifulSoup(response.text, \"html.parser\")\n",
    "article = soup.find(\"article\")\n",
    "paragraphs = article.find_all(\"p\")\n",
    "text = \" \".join(p.get_text() for p in paragraphs)\n",
    "print('text: ', text)\n"
   ],
   "metadata": {
    "id": "XS2ENJ7Jf3VS"
   },
   "execution_count": 52,
   "outputs": [
    {
     "ename": "InvalidSchema",
     "evalue": "No connection adapters were found for '* https://www.washingtonpost.com/national-security/2023/03/31/trump-arraignment-secret-service/'",
     "output_type": "error",
     "traceback": [
      "\u001B[1;31m---------------------------------------------------------------------------\u001B[0m",
      "\u001B[1;31mInvalidSchema\u001B[0m                             Traceback (most recent call last)",
      "Cell \u001B[1;32mIn[52], line 6\u001B[0m\n\u001B[0;32m      3\u001B[0m \u001B[38;5;28;01mfrom\u001B[39;00m \u001B[38;5;21;01mbs4\u001B[39;00m \u001B[38;5;28;01mimport\u001B[39;00m BeautifulSoup\n\u001B[0;32m      5\u001B[0m url \u001B[38;5;241m=\u001B[39m \u001B[38;5;28minput\u001B[39m(\u001B[38;5;124m\"\u001B[39m\u001B[38;5;124mEnter the URL of the news article: \u001B[39m\u001B[38;5;124m\"\u001B[39m)\n\u001B[1;32m----> 6\u001B[0m response \u001B[38;5;241m=\u001B[39m \u001B[43mrequests\u001B[49m\u001B[38;5;241;43m.\u001B[39;49m\u001B[43mget\u001B[49m\u001B[43m(\u001B[49m\u001B[43murl\u001B[49m\u001B[43m)\u001B[49m\n\u001B[0;32m      7\u001B[0m soup \u001B[38;5;241m=\u001B[39m BeautifulSoup(response\u001B[38;5;241m.\u001B[39mtext, \u001B[38;5;124m\"\u001B[39m\u001B[38;5;124mhtml.parser\u001B[39m\u001B[38;5;124m\"\u001B[39m)\n\u001B[0;32m      8\u001B[0m article \u001B[38;5;241m=\u001B[39m soup\u001B[38;5;241m.\u001B[39mfind(\u001B[38;5;124m\"\u001B[39m\u001B[38;5;124marticle\u001B[39m\u001B[38;5;124m\"\u001B[39m)\n",
      "File \u001B[1;32mD:\\SDH\\Python\\AIprogramming\\Lib\\site-packages\\requests\\api.py:73\u001B[0m, in \u001B[0;36mget\u001B[1;34m(url, params, **kwargs)\u001B[0m\n\u001B[0;32m     62\u001B[0m \u001B[38;5;28;01mdef\u001B[39;00m \u001B[38;5;21mget\u001B[39m(url, params\u001B[38;5;241m=\u001B[39m\u001B[38;5;28;01mNone\u001B[39;00m, \u001B[38;5;241m*\u001B[39m\u001B[38;5;241m*\u001B[39mkwargs):\n\u001B[0;32m     63\u001B[0m \u001B[38;5;250m    \u001B[39m\u001B[38;5;124mr\u001B[39m\u001B[38;5;124;03m\"\"\"Sends a GET request.\u001B[39;00m\n\u001B[0;32m     64\u001B[0m \n\u001B[0;32m     65\u001B[0m \u001B[38;5;124;03m    :param url: URL for the new :class:`Request` object.\u001B[39;00m\n\u001B[1;32m   (...)\u001B[0m\n\u001B[0;32m     70\u001B[0m \u001B[38;5;124;03m    :rtype: requests.Response\u001B[39;00m\n\u001B[0;32m     71\u001B[0m \u001B[38;5;124;03m    \"\"\"\u001B[39;00m\n\u001B[1;32m---> 73\u001B[0m     \u001B[38;5;28;01mreturn\u001B[39;00m \u001B[43mrequest\u001B[49m\u001B[43m(\u001B[49m\u001B[38;5;124;43m\"\u001B[39;49m\u001B[38;5;124;43mget\u001B[39;49m\u001B[38;5;124;43m\"\u001B[39;49m\u001B[43m,\u001B[49m\u001B[43m \u001B[49m\u001B[43murl\u001B[49m\u001B[43m,\u001B[49m\u001B[43m \u001B[49m\u001B[43mparams\u001B[49m\u001B[38;5;241;43m=\u001B[39;49m\u001B[43mparams\u001B[49m\u001B[43m,\u001B[49m\u001B[43m \u001B[49m\u001B[38;5;241;43m*\u001B[39;49m\u001B[38;5;241;43m*\u001B[39;49m\u001B[43mkwargs\u001B[49m\u001B[43m)\u001B[49m\n",
      "File \u001B[1;32mD:\\SDH\\Python\\AIprogramming\\Lib\\site-packages\\requests\\api.py:59\u001B[0m, in \u001B[0;36mrequest\u001B[1;34m(method, url, **kwargs)\u001B[0m\n\u001B[0;32m     55\u001B[0m \u001B[38;5;66;03m# By using the 'with' statement we are sure the session is closed, thus we\u001B[39;00m\n\u001B[0;32m     56\u001B[0m \u001B[38;5;66;03m# avoid leaving sockets open which can trigger a ResourceWarning in some\u001B[39;00m\n\u001B[0;32m     57\u001B[0m \u001B[38;5;66;03m# cases, and look like a memory leak in others.\u001B[39;00m\n\u001B[0;32m     58\u001B[0m \u001B[38;5;28;01mwith\u001B[39;00m sessions\u001B[38;5;241m.\u001B[39mSession() \u001B[38;5;28;01mas\u001B[39;00m session:\n\u001B[1;32m---> 59\u001B[0m     \u001B[38;5;28;01mreturn\u001B[39;00m \u001B[43msession\u001B[49m\u001B[38;5;241;43m.\u001B[39;49m\u001B[43mrequest\u001B[49m\u001B[43m(\u001B[49m\u001B[43mmethod\u001B[49m\u001B[38;5;241;43m=\u001B[39;49m\u001B[43mmethod\u001B[49m\u001B[43m,\u001B[49m\u001B[43m \u001B[49m\u001B[43murl\u001B[49m\u001B[38;5;241;43m=\u001B[39;49m\u001B[43murl\u001B[49m\u001B[43m,\u001B[49m\u001B[43m \u001B[49m\u001B[38;5;241;43m*\u001B[39;49m\u001B[38;5;241;43m*\u001B[39;49m\u001B[43mkwargs\u001B[49m\u001B[43m)\u001B[49m\n",
      "File \u001B[1;32mD:\\SDH\\Python\\AIprogramming\\Lib\\site-packages\\requests\\sessions.py:587\u001B[0m, in \u001B[0;36mSession.request\u001B[1;34m(self, method, url, params, data, headers, cookies, files, auth, timeout, allow_redirects, proxies, hooks, stream, verify, cert, json)\u001B[0m\n\u001B[0;32m    582\u001B[0m send_kwargs \u001B[38;5;241m=\u001B[39m {\n\u001B[0;32m    583\u001B[0m     \u001B[38;5;124m\"\u001B[39m\u001B[38;5;124mtimeout\u001B[39m\u001B[38;5;124m\"\u001B[39m: timeout,\n\u001B[0;32m    584\u001B[0m     \u001B[38;5;124m\"\u001B[39m\u001B[38;5;124mallow_redirects\u001B[39m\u001B[38;5;124m\"\u001B[39m: allow_redirects,\n\u001B[0;32m    585\u001B[0m }\n\u001B[0;32m    586\u001B[0m send_kwargs\u001B[38;5;241m.\u001B[39mupdate(settings)\n\u001B[1;32m--> 587\u001B[0m resp \u001B[38;5;241m=\u001B[39m \u001B[38;5;28;43mself\u001B[39;49m\u001B[38;5;241;43m.\u001B[39;49m\u001B[43msend\u001B[49m\u001B[43m(\u001B[49m\u001B[43mprep\u001B[49m\u001B[43m,\u001B[49m\u001B[43m \u001B[49m\u001B[38;5;241;43m*\u001B[39;49m\u001B[38;5;241;43m*\u001B[39;49m\u001B[43msend_kwargs\u001B[49m\u001B[43m)\u001B[49m\n\u001B[0;32m    589\u001B[0m \u001B[38;5;28;01mreturn\u001B[39;00m resp\n",
      "File \u001B[1;32mD:\\SDH\\Python\\AIprogramming\\Lib\\site-packages\\requests\\sessions.py:695\u001B[0m, in \u001B[0;36mSession.send\u001B[1;34m(self, request, **kwargs)\u001B[0m\n\u001B[0;32m    692\u001B[0m hooks \u001B[38;5;241m=\u001B[39m request\u001B[38;5;241m.\u001B[39mhooks\n\u001B[0;32m    694\u001B[0m \u001B[38;5;66;03m# Get the appropriate adapter to use\u001B[39;00m\n\u001B[1;32m--> 695\u001B[0m adapter \u001B[38;5;241m=\u001B[39m \u001B[38;5;28;43mself\u001B[39;49m\u001B[38;5;241;43m.\u001B[39;49m\u001B[43mget_adapter\u001B[49m\u001B[43m(\u001B[49m\u001B[43murl\u001B[49m\u001B[38;5;241;43m=\u001B[39;49m\u001B[43mrequest\u001B[49m\u001B[38;5;241;43m.\u001B[39;49m\u001B[43murl\u001B[49m\u001B[43m)\u001B[49m\n\u001B[0;32m    697\u001B[0m \u001B[38;5;66;03m# Start time (approximately) of the request\u001B[39;00m\n\u001B[0;32m    698\u001B[0m start \u001B[38;5;241m=\u001B[39m preferred_clock()\n",
      "File \u001B[1;32mD:\\SDH\\Python\\AIprogramming\\Lib\\site-packages\\requests\\sessions.py:792\u001B[0m, in \u001B[0;36mSession.get_adapter\u001B[1;34m(self, url)\u001B[0m\n\u001B[0;32m    789\u001B[0m         \u001B[38;5;28;01mreturn\u001B[39;00m adapter\n\u001B[0;32m    791\u001B[0m \u001B[38;5;66;03m# Nothing matches :-/\u001B[39;00m\n\u001B[1;32m--> 792\u001B[0m \u001B[38;5;28;01mraise\u001B[39;00m InvalidSchema(\u001B[38;5;124mf\u001B[39m\u001B[38;5;124m\"\u001B[39m\u001B[38;5;124mNo connection adapters were found for \u001B[39m\u001B[38;5;132;01m{\u001B[39;00murl\u001B[38;5;132;01m!r}\u001B[39;00m\u001B[38;5;124m\"\u001B[39m)\n",
      "\u001B[1;31mInvalidSchema\u001B[0m: No connection adapters were found for '* https://www.washingtonpost.com/national-security/2023/03/31/trump-arraignment-secret-service/'"
     ]
    }
   ]
  },
  {
   "cell_type": "code",
   "source": [],
   "metadata": {
    "id": "BIuzQiR8f6mB"
   },
   "execution_count": null,
   "outputs": []
  }
 ]
}
