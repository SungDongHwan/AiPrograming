{
 "nbformat": 4,
 "nbformat_minor": 0,
 "metadata": {
  "colab": {
   "provenance": [],
   "toc_visible": true
  },
  "kernelspec": {
   "name": "python3",
   "language": "python",
   "display_name": "Python 3 (ipykernel)"
  },
  "language_info": {
   "name": "python"
  }
 },
 "cells": [
  {
   "cell_type": "markdown",
   "source": [
    "# Lab5"
   ],
   "metadata": {
    "id": "ZYJeA4fpcGNk"
   }
  },
  {
   "cell_type": "markdown",
   "source": [
    "\n",
    "\n",
    "## 1. Write your code according to the following instructions:\n",
    "\n",
    "* Create a list of integers and find the sum of all even numbers.\n",
    "* Add a new element to the end of the list.\n",
    "* Remove the first element from the list.\n",
    "* Sort the list in ascending order.\n",
    "*"
   ],
   "metadata": {
    "id": "0AZqhmeccW7p"
   }
  },
  {
   "cell_type": "code",
   "execution_count": 127,
   "outputs": [
    {
     "name": "stdout",
     "output_type": "stream",
     "text": [
      "1000\n"
     ]
    }
   ],
   "source": [
    "l = range(1,1001)\n",
    "for i in l:\n",
    "    if i % 2 == 0:\n",
    "        s =0\n",
    "        s += i\n",
    "print(s)"
   ],
   "metadata": {
    "collapsed": false,
    "ExecuteTime": {
     "start_time": "2023-04-07T17:47:54.010430Z",
     "end_time": "2023-04-07T17:47:54.026032Z"
    }
   }
  },
  {
   "cell_type": "code",
   "source": [
    "# Create a list of integers\n",
    "int_list = list(range(1, 100))\n",
    "even_list = [num for num in int_list if num % 2 == 0]\n",
    "print(even_list)\n",
    "even_list=even_list+[33]\n",
    "del even_list[0]\n",
    "print(even_list)\n",
    "s_even_list=sorted(even_list)\n",
    "s_even_list"
   ],
   "metadata": {
    "id": "SBUQ1WRTc1Nz",
    "ExecuteTime": {
     "start_time": "2023-04-07T16:43:20.430371Z",
     "end_time": "2023-04-07T16:43:20.446108Z"
    }
   },
   "execution_count": 26,
   "outputs": [
    {
     "name": "stdout",
     "output_type": "stream",
     "text": [
      "[2, 4, 6, 8, 10, 12, 14, 16, 18, 20, 22, 24, 26, 28, 30, 32, 34, 36, 38, 40, 42, 44, 46, 48, 50, 52, 54, 56, 58, 60, 62, 64, 66, 68, 70, 72, 74, 76, 78, 80, 82, 84, 86, 88, 90, 92, 94, 96, 98]\n",
      "[4, 6, 8, 10, 12, 14, 16, 18, 20, 22, 24, 26, 28, 30, 32, 34, 36, 38, 40, 42, 44, 46, 48, 50, 52, 54, 56, 58, 60, 62, 64, 66, 68, 70, 72, 74, 76, 78, 80, 82, 84, 86, 88, 90, 92, 94, 96, 98, 33]\n"
     ]
    },
    {
     "data": {
      "text/plain": "[4,\n 6,\n 8,\n 10,\n 12,\n 14,\n 16,\n 18,\n 20,\n 22,\n 24,\n 26,\n 28,\n 30,\n 32,\n 33,\n 34,\n 36,\n 38,\n 40,\n 42,\n 44,\n 46,\n 48,\n 50,\n 52,\n 54,\n 56,\n 58,\n 60,\n 62,\n 64,\n 66,\n 68,\n 70,\n 72,\n 74,\n 76,\n 78,\n 80,\n 82,\n 84,\n 86,\n 88,\n 90,\n 92,\n 94,\n 96,\n 98]"
     },
     "execution_count": 26,
     "metadata": {},
     "output_type": "execute_result"
    }
   ]
  },
  {
   "cell_type": "markdown",
   "source": [
    "## 2. Write your code according to the following instructions:\n",
    "\n",
    "* Create a tuple containing names of your three favorite fruits.\n",
    "* Use tuple unpacking to assign each fruit to a separate variable.\n",
    "* Create a new tuple by concatenating your favorite fruits with a tuple of your favorite vegetables.\n",
    "\n",
    "\n"
   ],
   "metadata": {
    "id": "mGbPfQJEc5pl"
   }
  },
  {
   "cell_type": "code",
   "source": [
    "# Create a tuple containing names of your three favorite fruits.\n",
    "fruits = (\"apple\", \"banana\", \"cherry\")\n",
    "vegetables = (\"carrot\", \"spinach\", \"cabbage\")\n",
    "x,y,z=fruits\n",
    "type((x,y,z))\n",
    "type((x,))\n",
    "(x,)+vegetables+(y,z)"
   ],
   "metadata": {
    "id": "mGAC-9rSc7Qd",
    "ExecuteTime": {
     "start_time": "2023-04-07T17:48:41.762581Z",
     "end_time": "2023-04-07T17:48:41.778314Z"
    }
   },
   "execution_count": 128,
   "outputs": [
    {
     "data": {
      "text/plain": "('apple', 'carrot', 'spinach', 'cabbage', 'banana', 'cherry')"
     },
     "execution_count": 128,
     "metadata": {},
     "output_type": "execute_result"
    }
   ]
  },
  {
   "cell_type": "markdown",
   "source": [
    "## 3. Write your code according to the following instructions:\n",
    "\n",
    "* Create a list of strings and find the longest string.\n",
    "* Calculate the sum of a range of numbers from 1 to 100.\n",
    "* Using a list comprehension, create a list containing the squares of the numbers from 1 to 10.\n",
    "\n"
   ],
   "metadata": {
    "id": "INqFk2K5c7ks"
   }
  },
  {
   "cell_type": "code",
   "source": [
    "# Create a list of strings\n",
    "strings = [\"apple\", \"banana\", \"A\", \"Hello\", \"Python is fun!\", \"pineapple\", \"blueberry\", ]\n",
    "longest_string = max(strings,key=len)\n",
    "print(longest_string)\n",
    "sum_100=sum(x for x in range(1,101))\n",
    "type(sum_100)\n",
    "print(sum_100)\n",
    "squares = [x**2 for x in range(1,11)]\n",
    "squares"
   ],
   "metadata": {
    "id": "B2c46qWfc8z0",
    "ExecuteTime": {
     "start_time": "2023-04-07T17:21:22.923228Z",
     "end_time": "2023-04-07T17:21:22.954584Z"
    }
   },
   "execution_count": 80,
   "outputs": [
    {
     "name": "stdout",
     "output_type": "stream",
     "text": [
      "Python is fun!\n",
      "5050\n"
     ]
    },
    {
     "data": {
      "text/plain": "[1, 4, 9, 16, 25, 36, 49, 64, 81, 100]"
     },
     "execution_count": 80,
     "metadata": {},
     "output_type": "execute_result"
    }
   ]
  },
  {
   "cell_type": "markdown",
   "source": [
    "\n",
    "## 4. Write your code according to the following instructions:\n",
    "\n",
    "* Create two lists, a and b, where b is a shallow copy of a.\n",
    "* Modify an element in a and observe the effect on b.\n",
    "* Repeat the process using a deep copy instead of a shallow copy."
   ],
   "metadata": {
    "id": "jAEoPcBXc9kM"
   }
  },
  {
   "cell_type": "code",
   "source": [
    "import copy\n",
    "# Create a list with variable name a\n",
    "a = [1, 2, [3, 4]]\n",
    "# shallow copy\n",
    "b = a.copy()\n",
    "a[2][0] = 4\n",
    "print(b)\n",
    "# deep copy\n",
    "b = copy.deepcopy(a)\n",
    "a[2][1] = 3\n",
    "print(a)\n",
    "b\n"
   ],
   "metadata": {
    "id": "nJN7nZ1Nc-ad",
    "ExecuteTime": {
     "start_time": "2023-04-07T17:28:09.410537Z",
     "end_time": "2023-04-07T17:28:09.441787Z"
    }
   },
   "execution_count": 97,
   "outputs": [
    {
     "name": "stdout",
     "output_type": "stream",
     "text": [
      "[1, 2, [4, 4]]\n",
      "[1, 2, [4, 3]]\n"
     ]
    },
    {
     "data": {
      "text/plain": "[1, 2, [4, 4]]"
     },
     "execution_count": 97,
     "metadata": {},
     "output_type": "execute_result"
    }
   ]
  },
  {
   "cell_type": "markdown",
   "source": [
    "## 5 Write your code according to the following instructions:\n",
    "\n",
    "* Create a string containing a sentence.\n",
    "* Reverse the order of the words in the sentence.\n",
    "* Convert the sentence to uppercase.\n",
    "Replace a word in the sentence with another word.\n",
    "\n",
    "\n",
    "\n"
   ],
   "metadata": {
    "id": "EkRNBCyLctUY"
   }
  },
  {
   "cell_type": "code",
   "source": [
    "# Create a string containing a sentence.\n",
    "sentence = \"This is a sample sentence\"\n",
    "intro= sentence+\": hello\"\n",
    "s = intro.split()\n",
    "rev_intro=intro[::-1]\n",
    "print(rev_intro)\n",
    "reversed_words = \"\".join(sentence.split()[::-1])\n",
    "print(reversed_words)\n",
    "d = intro.upper()\n",
    "intro_1 = intro.replace( \"is\",\"are\")\n",
    "intro_1"
   ],
   "metadata": {
    "id": "BxdeHEF_cB3C",
    "ExecuteTime": {
     "start_time": "2023-04-07T18:03:06.457077Z",
     "end_time": "2023-04-07T18:03:06.476084Z"
    }
   },
   "execution_count": 133,
   "outputs": [
    {
     "name": "stdout",
     "output_type": "stream",
     "text": [
      "olleh :ecnetnes elpmas a si sihT\n",
      "sentencesampleaisThis\n"
     ]
    },
    {
     "data": {
      "text/plain": "'Thare are a sample sentence: hello'"
     },
     "execution_count": 133,
     "metadata": {},
     "output_type": "execute_result"
    }
   ]
  },
  {
   "cell_type": "markdown",
   "source": [
    "# 6. Palindrome Check\n",
    "\n",
    "A palindrome is a word, phrase, number, or other sequences of characters that reads the same forward and backward, ignoring spaces, punctuation, and capitalization. Write a function that checks if a given string is a palindrome."
   ],
   "metadata": {
    "id": "tdJa-fe6Lu_N"
   }
  },
  {
   "cell_type": "code",
   "source": [
    "def is_palindrome(s: str):\n",
    "    # Implement your code\n",
    "    s = s.lower()\n",
    "    return s == s[::-1]\n",
    "    # Return true if s is palladium, false otherwise.\n",
    "input_strings = ['racecar', 'hello', 'madam', 'python', 'level', 'world']  \n",
    "for s in input_strings:\n",
    "    print(f\"{s}: {is_palindrome(s)}\")\n"
   ],
   "metadata": {
    "id": "rBaG-0MTRktW",
    "ExecuteTime": {
     "start_time": "2023-04-07T17:42:30.900894Z",
     "end_time": "2023-04-07T17:42:30.916543Z"
    }
   },
   "execution_count": 124,
   "outputs": [
    {
     "name": "stdout",
     "output_type": "stream",
     "text": [
      "racecar: True\n",
      "hello: False\n",
      "madam: True\n",
      "python: False\n",
      "level: True\n",
      "world: False\n"
     ]
    }
   ]
  },
  {
   "cell_type": "markdown",
   "source": [
    "# Lab6"
   ],
   "metadata": {
    "id": "9fgcLU2reahl"
   }
  },
  {
   "cell_type": "markdown",
   "source": [
    "## 1. Write your code according to the following instructions:\n",
    "\n",
    "* Create a list of numbers from 1 to 50.\n",
    "* Filter out all the numbers that are divisible by 3 and store them in a new list.\n",
    "* Calculate the sum of the remaining numbers in the original list.\n",
    "* Reverse the order of the elements in the original list."
   ],
   "metadata": {
    "id": "dI9p5_rNec8G"
   }
  },
  {
   "cell_type": "code",
   "source": [
    "# Create a list of numbers from 1 to 50\n",
    "numbers = list(range(1, 51))\n",
    "\n"
   ],
   "metadata": {
    "id": "nvheaxJOedT9"
   },
   "execution_count": null,
   "outputs": []
  },
  {
   "cell_type": "markdown",
   "source": [
    "## 2. Write your code according to the following instructions:\n",
    "\n",
    "* Create a tuple containing 5 numbers.\n",
    "* Calculate the minimum, maximum, and average of the numbers in the tuple.\n",
    "* Create a new tuple by appending the calculated minimum, maximum, and average to the original tuple.\n",
    "* Use tuple unpacking to store the first three elements of the new tuple in separate variables."
   ],
   "metadata": {
    "id": "wDOVnwLTee8p"
   }
  },
  {
   "cell_type": "code",
   "source": [
    "# Create a tuple containing 5 numbers\n",
    "numbers = (3, 7, 2, 9, 5)\n",
    "\n"
   ],
   "metadata": {
    "id": "YeC_cgT3ee8q"
   },
   "execution_count": null,
   "outputs": []
  },
  {
   "cell_type": "code",
   "source": [
    "# Given a list of strings\n",
    "strings = [\"apple\", \"banana\", \"pineapple\", \"blueberry\", \"kiwi\"]\n",
    "\n"
   ],
   "metadata": {
    "id": "Q7DxZNeGefP0"
   },
   "execution_count": null,
   "outputs": []
  },
  {
   "cell_type": "markdown",
   "source": [
    "## 3. Write your code according to the following instructions:\n",
    "\n",
    "* Write a function that takes a string as input and returns the string with all vowels removed.\n",
    "* Create a list of strings and use the function to filter the vowels from each string.\n",
    "* Sort the filtered strings based on the number of consonants.\n",
    "* Write a function that takes a string as input and returns the string with words in reverse order. Use this function on each string in the list of filtered strings."
   ],
   "metadata": {
    "id": "P5k8YQd9dmUT"
   }
  },
  {
   "cell_type": "code",
   "source": [
    "def remove_vowels(s):\n",
    "  # implement your code\n",
    "\n",
    "\n",
    "# Create a list of strings\n",
    "strings = [\"apple\", \"banana\", \"cherry\", \"kiwi\", \"mango\", \"orange\", \"strawberry\", \"avocado\", \"zucchini\", \"grape\", \"blueberry\"]\n"
   ],
   "metadata": {
    "id": "EBIwt03Kdnpp"
   },
   "execution_count": null,
   "outputs": []
  },
  {
   "cell_type": "markdown",
   "source": [
    "## 4. Two Sum\n",
    "\n",
    "Given a list of integers and a target integer, find two integers in the list that sum up to the target. Return their indices as a tuple. Assume there is exactly one solution and you may not use the same element twice.\n",
    "\n",
    "\n",
    "```\n",
    "# input data 1\n",
    "numbers = [3, 2, 4]\n",
    "target = 6\n",
    "\n",
    "# output data 1\n",
    "(1, 2)\n",
    "\n",
    "# input data 2\n",
    "numbers = [8, 5, 6, 1, 2, 9]\n",
    "target = 9\n",
    "\n",
    "# output data 2\n",
    "(0, 3)\n",
    "\n",
    "# input data 3\n",
    "numbers = [1, 3, 6, 9, 2, 4, 8]\n",
    "target = 14\n",
    "\n",
    "# output data 3\n",
    "(2, 6)\n",
    "```"
   ],
   "metadata": {
    "id": "mPv8F8IDdsNB"
   }
  },
  {
   "cell_type": "code",
   "source": [
    "def two_sum(nums, target):\n",
    "    # Implement your code\n",
    "    # Return two integers in the list that sum up to the target\n",
    "\n",
    "input_data = [([3,2,4],6)]\n",
    "zip 쓰는거\n",
    "\n"
   ],
   "metadata": {
    "id": "tXDgAKGadyDx"
   },
   "execution_count": null,
   "outputs": []
  }
 ]
}
