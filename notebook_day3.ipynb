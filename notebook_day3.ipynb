{
 "cells": [
  {
   "cell_type": "code",
   "execution_count": 1,
   "metadata": {
    "collapsed": true,
    "ExecuteTime": {
     "start_time": "2023-04-07T14:43:53.177927Z",
     "end_time": "2023-04-07T14:43:53.193466Z"
    }
   },
   "outputs": [
    {
     "name": "stdout",
     "output_type": "stream",
     "text": [
      "5\n",
      "2\n",
      "3\n",
      "5\n",
      "2\n",
      "3\n",
      "[5, 2, 3]\n"
     ]
    }
   ],
   "source": [
    "l = [1,2,3]\n",
    "l[0] =5\n",
    "for i in l:# 이게 파이썬좀 써본 코드죠\n",
    "    print(i)\n",
    "for i in range(len(l)):#pythonic 하지 못한 코드죠\n",
    "    print(l[i])\n",
    "print(l)"
   ]
  },
  {
   "cell_type": "code",
   "execution_count": 4,
   "outputs": [
    {
     "data": {
      "text/plain": "int"
     },
     "execution_count": 4,
     "metadata": {},
     "output_type": "execute_result"
    }
   ],
   "source": [
    "i = 5\n",
    "type(i)"
   ],
   "metadata": {
    "collapsed": false,
    "ExecuteTime": {
     "start_time": "2023-04-07T14:49:46.007778Z",
     "end_time": "2023-04-07T14:49:46.018288Z"
    }
   }
  },
  {
   "cell_type": "code",
   "execution_count": 23,
   "outputs": [],
   "source": [],
   "metadata": {
    "collapsed": false,
    "ExecuteTime": {
     "start_time": "2023-04-07T14:52:49.989740Z",
     "end_time": "2023-04-07T14:52:50.002387Z"
    }
   }
  },
  {
   "cell_type": "markdown",
   "source": [
    "## 여기서는 add 가 아무거나 다되는거가 좀 불편한게 좋다.\n",
    "## 지금 sort() 를 할때, sorted 를 더 선호해야한다. sort 는 그 자신이 바뀌기떄문에 sideeffect를 가지기 떄문이다.\n",
    "- list는 말그대로 '모든'객체를 다 받을수 있으므로 조심해서 써라."
   ],
   "metadata": {
    "collapsed": false
   }
  },
  {
   "cell_type": "code",
   "execution_count": 44,
   "outputs": [
    {
     "name": "stdout",
     "output_type": "stream",
     "text": [
      "[1, 2, 3, 'abc', 3.14, [1, 2, 3]]\n",
      "1\n",
      "2\n",
      "3\n",
      "abc\n",
      "3.14\n",
      "[1, 2, 3]\n"
     ]
    }
   ],
   "source": [
    "s = 'abc'\n",
    "l = [1,2,3]\n",
    "l.append(s)\n",
    "l.append(3.14)\n",
    "l.append([1,2,3])\n",
    "print(l)\n",
    "for i in l:\n",
    "    print(i)"
   ],
   "metadata": {
    "collapsed": false,
    "ExecuteTime": {
     "start_time": "2023-04-07T15:05:52.527800Z",
     "end_time": "2023-04-07T15:05:52.541952Z"
    }
   }
  },
  {
   "cell_type": "markdown",
   "source": [],
   "metadata": {
    "collapsed": false
   }
  },
  {
   "cell_type": "markdown",
   "source": [
    "## 한개만 지울수 있다.\n",
    "## 항상 같게 쓰다가 필요할떄만 살짝 고쳐서 쓰는게 좋다."
   ],
   "metadata": {
    "collapsed": false
   }
  },
  {
   "cell_type": "code",
   "execution_count": 55,
   "outputs": [
    {
     "data": {
      "text/plain": "[1, 4, 2, 3]"
     },
     "execution_count": 55,
     "metadata": {},
     "output_type": "execute_result"
    }
   ],
   "source": [
    "nums = [1,2] +[4,2,3]\n",
    "nums.remove(2)\n",
    "nums"
   ],
   "metadata": {
    "collapsed": false,
    "ExecuteTime": {
     "start_time": "2023-04-07T15:25:01.050687Z",
     "end_time": "2023-04-07T15:25:01.062265Z"
    }
   }
  },
  {
   "cell_type": "code",
   "execution_count": 57,
   "outputs": [
    {
     "ename": "FileNotFoundError",
     "evalue": "[Errno 2] No such file or directory: 'input.txt'",
     "output_type": "error",
     "traceback": [
      "\u001B[1;31m---------------------------------------------------------------------------\u001B[0m",
      "\u001B[1;31mFileNotFoundError\u001B[0m                         Traceback (most recent call last)",
      "Cell \u001B[1;32mIn[57], line 1\u001B[0m\n\u001B[1;32m----> 1\u001B[0m \u001B[38;5;28;01mwith\u001B[39;00m \u001B[38;5;28;43mopen\u001B[39;49m\u001B[43m(\u001B[49m\u001B[38;5;124;43m\"\u001B[39;49m\u001B[38;5;124;43minput.txt\u001B[39;49m\u001B[38;5;124;43m\"\u001B[39;49m\u001B[43m)\u001B[49m \u001B[38;5;28;01mas\u001B[39;00m f:\n\u001B[0;32m      2\u001B[0m     \u001B[38;5;28;01mfor\u001B[39;00m line \u001B[38;5;129;01min\u001B[39;00m f:\n\u001B[0;32m      3\u001B[0m         s \u001B[38;5;241m=\u001B[39m line\u001B[38;5;241m.\u001B[39msplit(\u001B[38;5;124m'\u001B[39m\u001B[38;5;124m,\u001B[39m\u001B[38;5;124m'\u001B[39m)\n",
      "File \u001B[1;32mD:\\SDH\\Python\\pythonProject1\\lib\\site-packages\\IPython\\core\\interactiveshell.py:284\u001B[0m, in \u001B[0;36m_modified_open\u001B[1;34m(file, *args, **kwargs)\u001B[0m\n\u001B[0;32m    277\u001B[0m \u001B[38;5;28;01mif\u001B[39;00m file \u001B[38;5;129;01min\u001B[39;00m {\u001B[38;5;241m0\u001B[39m, \u001B[38;5;241m1\u001B[39m, \u001B[38;5;241m2\u001B[39m}:\n\u001B[0;32m    278\u001B[0m     \u001B[38;5;28;01mraise\u001B[39;00m \u001B[38;5;167;01mValueError\u001B[39;00m(\n\u001B[0;32m    279\u001B[0m         \u001B[38;5;124mf\u001B[39m\u001B[38;5;124m\"\u001B[39m\u001B[38;5;124mIPython won\u001B[39m\u001B[38;5;124m'\u001B[39m\u001B[38;5;124mt let you open fd=\u001B[39m\u001B[38;5;132;01m{\u001B[39;00mfile\u001B[38;5;132;01m}\u001B[39;00m\u001B[38;5;124m by default \u001B[39m\u001B[38;5;124m\"\u001B[39m\n\u001B[0;32m    280\u001B[0m         \u001B[38;5;124m\"\u001B[39m\u001B[38;5;124mas it is likely to crash IPython. If you know what you are doing, \u001B[39m\u001B[38;5;124m\"\u001B[39m\n\u001B[0;32m    281\u001B[0m         \u001B[38;5;124m\"\u001B[39m\u001B[38;5;124myou can use builtins\u001B[39m\u001B[38;5;124m'\u001B[39m\u001B[38;5;124m open.\u001B[39m\u001B[38;5;124m\"\u001B[39m\n\u001B[0;32m    282\u001B[0m     )\n\u001B[1;32m--> 284\u001B[0m \u001B[38;5;28;01mreturn\u001B[39;00m io_open(file, \u001B[38;5;241m*\u001B[39margs, \u001B[38;5;241m*\u001B[39m\u001B[38;5;241m*\u001B[39mkwargs)\n",
      "\u001B[1;31mFileNotFoundError\u001B[0m: [Errno 2] No such file or directory: 'input.txt'"
     ]
    }
   ],
   "source": [
    "with open(\"input.txt\") as f:\n",
    "    for line in f:\n",
    "        s = line.split(',')\n",
    "print(*s)\n"
   ],
   "metadata": {
    "collapsed": false
   }
  },
  {
   "cell_type": "code",
   "execution_count": 61,
   "outputs": [
    {
     "name": "stdout",
     "output_type": "stream",
     "text": [
      "1\n",
      "2\n",
      "3\n"
     ]
    },
    {
     "data": {
      "text/plain": "tuple"
     },
     "execution_count": 61,
     "metadata": {},
     "output_type": "execute_result"
    }
   ],
   "source": [
    "s = 'abc'\n",
    "t = (1,2,3)\n",
    "for i in t :\n",
    "    print(i)\n",
    "type(t)\n",
    "\n"
   ],
   "metadata": {
    "collapsed": false,
    "ExecuteTime": {
     "start_time": "2023-04-07T15:39:14.458358Z",
     "end_time": "2023-04-07T15:39:14.472568Z"
    }
   }
  },
  {
   "cell_type": "code",
   "execution_count": 67,
   "outputs": [
    {
     "name": "stdout",
     "output_type": "stream",
     "text": [
      "1 2 3\n"
     ]
    }
   ],
   "source": [
    "def process(a,b,c):\n",
    "    return 1,2,3\n",
    "a,b,c = process(*t)\n",
    "print(a,b,c)"
   ],
   "metadata": {
    "collapsed": false,
    "ExecuteTime": {
     "start_time": "2023-04-07T15:47:43.378821Z",
     "end_time": "2023-04-07T15:47:43.395355Z"
    }
   }
  },
  {
   "cell_type": "markdown",
   "source": [
    "## 같은 시퀀스인데 왜 list는 출력이 되고 range 는 출력이 안될까?"
   ],
   "metadata": {
    "collapsed": false
   }
  },
  {
   "cell_type": "code",
   "execution_count": 75,
   "outputs": [
    {
     "name": "stdout",
     "output_type": "stream",
     "text": [
      "['a', 'b', 'c']\n",
      "[1, 2, 3]\n",
      "range(0, 3)\n",
      "[0, 1, 2]\n",
      "0\n",
      "1\n",
      "2\n"
     ]
    }
   ],
   "source": [
    "s = 'abc'\n",
    "print(list(s))\n",
    "l = (1,2,3)\n",
    "print(list(l))\n",
    "print(range(3))\n",
    "print(list(range(3)))\n",
    "#실체화, materialization 이라고 한다.\n",
    "type(range(3))\n",
    "for i in range(3):\n",
    "    print(i)"
   ],
   "metadata": {
    "collapsed": false,
    "ExecuteTime": {
     "start_time": "2023-04-07T15:59:03.254586Z",
     "end_time": "2023-04-07T15:59:03.270207Z"
    }
   }
  },
  {
   "cell_type": "markdown",
   "source": [
    "# 이게 이상하단걸 알아야한다."
   ],
   "metadata": {
    "collapsed": false
   }
  },
  {
   "cell_type": "code",
   "execution_count": 91,
   "outputs": [
    {
     "name": "stdout",
     "output_type": "stream",
     "text": [
      "[1, 2, 3, [5]]\n"
     ]
    }
   ],
   "source": [
    "a= [5]\n",
    "l1 = [1,2,3,a]\n",
    "#l2 = l1 # 이렇게 말고\n",
    "l2 = l1.copy()\n",
    "print(l2)"
   ],
   "metadata": {
    "collapsed": false,
    "ExecuteTime": {
     "start_time": "2023-04-07T16:32:39.652696Z",
     "end_time": "2023-04-07T16:32:39.672642Z"
    }
   }
  },
  {
   "cell_type": "markdown",
   "source": [
    "## 뭐가 이상할까? 사실 l2= l1 을 쓰게 된다면 l1 을 바꾸게 되면 l2 가 바뀌게된다.\n",
    "## 이를 방지하려고 copy()라는 method를 실행하더라도, 2차원일때는 또다른 문제에 빠진다.\n",
    "## l1[3][0] 을 변경한 이후 l2[3][0] 을 변경했을때, l1 값이 연동이 되어서 같이 바뀌게 된다.\n",
    "## a 를 바뀌었을때  변경이 나머지에도 영향을 미치게된다.\n",
    "## 이것을 근본적으로 방지하기 위해서는 xxx_df = df.xxx 와 같이 새로 만들어서 써라. 원본 df건드리지말고."
   ],
   "metadata": {
    "collapsed": false
   }
  },
  {
   "cell_type": "markdown",
   "source": [],
   "metadata": {
    "collapsed": false
   }
  },
  {
   "cell_type": "code",
   "execution_count": 93,
   "outputs": [
    {
     "name": "stdout",
     "output_type": "stream",
     "text": [
      "[10, 2, 3, [20]]\n",
      "[1, 20, 3, [20]]\n",
      "[10, 2, 3, [20]]\n",
      "[1, 20, 3, [20]]\n"
     ]
    }
   ],
   "source": [
    "l1[0] = 10\n",
    "l2[1] = 20\n",
    "print(l1)\n",
    "print(l2)\n",
    "l1[3][0] = 10\n",
    "l2[3][0] = 20\n",
    "print(l1)\n",
    "print(l2)"
   ],
   "metadata": {
    "collapsed": false,
    "ExecuteTime": {
     "start_time": "2023-04-07T16:33:28.945220Z",
     "end_time": "2023-04-07T16:33:28.961116Z"
    }
   }
  },
  {
   "cell_type": "code",
   "execution_count": 95,
   "outputs": [
    {
     "name": "stdout",
     "output_type": "stream",
     "text": [
      "[10, 2, 3]\n",
      "[20, 2, 3]\n"
     ]
    }
   ],
   "source": [
    "l1 = [1,2,3]\n",
    "l2 = l1[:]\n",
    "l1[0] = 10\n",
    "l2[0] = 20\n",
    "print(l1)\n",
    "print(l2)"
   ],
   "metadata": {
    "collapsed": false,
    "ExecuteTime": {
     "start_time": "2023-04-07T16:40:37.062925Z",
     "end_time": "2023-04-07T16:40:37.074832Z"
    }
   }
  }
 ],
 "metadata": {
  "kernelspec": {
   "display_name": "Python 3",
   "language": "python",
   "name": "python3"
  },
  "language_info": {
   "codemirror_mode": {
    "name": "ipython",
    "version": 2
   },
   "file_extension": ".py",
   "mimetype": "text/x-python",
   "name": "python",
   "nbconvert_exporter": "python",
   "pygments_lexer": "ipython2",
   "version": "2.7.6"
  }
 },
 "nbformat": 4,
 "nbformat_minor": 0
}
